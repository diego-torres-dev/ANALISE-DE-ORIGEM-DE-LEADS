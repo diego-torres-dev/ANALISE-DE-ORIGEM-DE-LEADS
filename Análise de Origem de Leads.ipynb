{
 "cells": [
  {
   "cell_type": "markdown",
   "id": "3508400d",
   "metadata": {},
   "source": [
    "# Análise de Origem de Leads"
   ]
  },
  {
   "cell_type": "markdown",
   "id": "bc607623",
   "metadata": {},
   "source": [
    "## Contextualização"
   ]
  },
  {
   "cell_type": "markdown",
   "id": "c821582b",
   "metadata": {},
   "source": [
    "Para analisar a origem de seus __leads__, uma empresa que presta serviços de treinamentos online exporta um arquivo TXT com\n",
    "informações de seus potenciais clientes. Esse arquivo fornece duas informações: e-mail do cliente e URL em que ele clicou para\n",
    "para preencher um formulário da empresa.\n",
    "\n",
    "No referido arquivo, identifica-se a origem do lead por meio dos seguintes códigos:\n",
    "    \n",
    "- hashtag_site_org -> Pessoas que vieram pelo site\n",
    "- hashtag_yt_org -> Pessoas que vieram pelo Youtube\n",
    "- hashtag_ig_org -> Pessoas que vieram pelo Instagram\n",
    "- hashtag_igfb_org -> Pessoas que vieram pelo Instagram ou Facebook\n",
    "\n",
    "Todos os códigos diferentes são códigos de anúncios da empresa."
   ]
  },
  {
   "cell_type": "markdown",
   "id": "8b0f2295",
   "metadata": {},
   "source": [
    "## Desafio"
   ]
  },
  {
   "cell_type": "markdown",
   "id": "61cebd15",
   "metadata": {},
   "source": [
    "Queremos encontrar respostas para as seguintes perguntas:\n",
    "\n",
    "1) Quantos alunos vieram através de anúncios?\n",
    "\n",
    "2) Quanto alunos chegaram até a empresa organicamente?\n",
    "\n",
    "3) Qual é a melhor fonte orgânica de alunos?\n",
    "\n",
    "Obs: todas as fontes são orgânicas, exceto os anúncios."
   ]
  },
  {
   "cell_type": "markdown",
   "id": "9f6ab513",
   "metadata": {},
   "source": [
    "### Obtenção dos Indicadores"
   ]
  },
  {
   "cell_type": "code",
   "execution_count": 1,
   "id": "e44e40f4",
   "metadata": {},
   "outputs": [],
   "source": [
    "# Indicadores\n",
    "qtde_site = 0\n",
    "qtde_yt = 0\n",
    "qtde_igfb = 0\n",
    "qtde_organico = 0\n",
    "qtde_anuncios = 0\n",
    "\n",
    "# Abre o arquivo para análise\n",
    "with open('Alunos.txt', 'r') as alunos:\n",
    "    \n",
    "    # Converte cada linha do arquivo em um item de uma lista\n",
    "    linhas = alunos.readlines()\n",
    "    \n",
    "    # Remove as quatro primeiras linhas do arquivo (cabeçalho)\n",
    "    del linhas[:4]\n",
    "    \n",
    "    # Percorre a lista de linhas, dividindo-as com base num separador\n",
    "    for linha in linhas:\n",
    "        email, origem = linha.split(',')\n",
    "        \n",
    "        # Atualiza o valor dos indicadores\n",
    "        if '_org' in origem:\n",
    "            qtde_organico += 1\n",
    "            if 'hashtag_site_org' in origem:\n",
    "                qtde_site += 1\n",
    "            if 'hashtag_yt_org' in origem:\n",
    "                qtde_yt += 1\n",
    "            if ('hashtag_ig' or 'hashtag_igfb') in origem:\n",
    "                qtde_igfb += 1\n",
    "        else:\n",
    "            qtde_anuncios += 1            "
   ]
  },
  {
   "cell_type": "markdown",
   "id": "a48ae8b7",
   "metadata": {},
   "source": [
    "### Criação do Relatório com Indicadores"
   ]
  },
  {
   "cell_type": "markdown",
   "id": "cd09ca3d",
   "metadata": {},
   "source": [
    "Cria um arquivo TXT para exibir os resultados da análise:"
   ]
  },
  {
   "cell_type": "code",
   "execution_count": 2,
   "id": "18b3cde2",
   "metadata": {},
   "outputs": [],
   "source": [
    "with open('Relatório - Indicadores de Origem de Leads.txt', 'w') as relatorio:\n",
    "    relatorio.write(f'Anúncios: {qtde_anuncios}\\n')\n",
    "    relatorio.write(f'Orgânico: {qtde_organico}\\n')\n",
    "    relatorio.write(f'YouTube: {qtde_yt}\\n')\n",
    "    relatorio.write(f'Instagram/Facebook: {qtde_igfb}\\n')\n",
    "    relatorio.write(f'Site: {qtde_site}\\n')"
   ]
  }
 ],
 "metadata": {
  "kernelspec": {
   "display_name": "Python 3 (ipykernel)",
   "language": "python",
   "name": "python3"
  },
  "language_info": {
   "codemirror_mode": {
    "name": "ipython",
    "version": 3
   },
   "file_extension": ".py",
   "mimetype": "text/x-python",
   "name": "python",
   "nbconvert_exporter": "python",
   "pygments_lexer": "ipython3",
   "version": "3.9.12"
  }
 },
 "nbformat": 4,
 "nbformat_minor": 5
}
